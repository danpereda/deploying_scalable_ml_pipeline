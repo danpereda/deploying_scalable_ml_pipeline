{
 "cells": [
  {
   "cell_type": "code",
   "execution_count": 3,
   "metadata": {},
   "outputs": [
    {
     "name": "stdout",
     "output_type": "stream",
     "text": [
      "200\n",
      "{'greeting': 'This is an example of an scalable ml pipeline!'}\n"
     ]
    }
   ],
   "source": [
    "import requests\n",
    "\n",
    "app_url = \"https://deploying-scalable-ml-pipeline.herokuapp.com\"\n",
    "response = requests.get(f'{app_url}/')\n",
    "\n",
    "print(response.status_code)\n",
    "print(response.json())"
   ]
  },
  {
   "cell_type": "code",
   "execution_count": 4,
   "metadata": {},
   "outputs": [
    {
     "name": "stdout",
     "output_type": "stream",
     "text": [
      "200\n",
      "{'prediction': ' <=50K'}\n"
     ]
    }
   ],
   "source": [
    "json={\n",
    "        'age': 34,\n",
    "        'workclass': ' Private',\n",
    "        'fnlgt': 198613,\n",
    "        'education': ' 11th',\n",
    "        'education-num': 7,\n",
    "        'marital-status': ' Married-civ-spouse',\n",
    "        'occupation': ' Sales',\n",
    "        'relationship': ' Husband',\n",
    "        'race': ' White',\n",
    "        'sex': ' Male',\n",
    "        'capital-gain': 0,\n",
    "        'capital-loss': 0,\n",
    "        'hours-per-week': 25,\n",
    "        'native-country': ' ?'\n",
    "}\n",
    "response = requests.post(f'{app_url}/predict/', json = json)\n",
    "\n",
    "print(response.status_code)\n",
    "print(response.json())"
   ]
  },
  {
   "cell_type": "code",
   "execution_count": null,
   "metadata": {},
   "outputs": [],
   "source": []
  }
 ],
 "metadata": {
  "kernelspec": {
   "display_name": "Python 3.9.7 ('pytorch')",
   "language": "python",
   "name": "python3"
  },
  "language_info": {
   "codemirror_mode": {
    "name": "ipython",
    "version": 3
   },
   "file_extension": ".py",
   "mimetype": "text/x-python",
   "name": "python",
   "nbconvert_exporter": "python",
   "pygments_lexer": "ipython3",
   "version": "3.9.7"
  },
  "orig_nbformat": 4,
  "vscode": {
   "interpreter": {
    "hash": "484812c5c64c653a501e4b3ff51a1fad6e468a3fd8a7f64b3d5fcc917d58d93d"
   }
  }
 },
 "nbformat": 4,
 "nbformat_minor": 2
}
